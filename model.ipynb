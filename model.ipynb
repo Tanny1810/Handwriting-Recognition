{
 "cells": [
  {
   "cell_type": "markdown",
   "id": "9e95f285",
   "metadata": {
    "heading_collapsed": true
   },
   "source": [
    "## Data Collection"
   ]
  },
  {
   "cell_type": "code",
   "execution_count": 1,
   "id": "9faa34f5",
   "metadata": {
    "ExecuteTime": {
     "end_time": "2022-03-08T15:14:46.548443Z",
     "start_time": "2022-03-08T15:14:46.540441Z"
    },
    "hidden": true
   },
   "outputs": [],
   "source": [
    "# !tar xf IAM_Words\\words.tgz -C data\\words\n",
    "# !move IAM_Words\\words.txt data"
   ]
  },
  {
   "cell_type": "markdown",
   "id": "c263f860",
   "metadata": {
    "ExecuteTime": {
     "end_time": "2022-03-01T09:46:08.110548Z",
     "start_time": "2022-03-01T09:46:08.093544Z"
    }
   },
   "source": [
    "## Libraries"
   ]
  },
  {
   "cell_type": "code",
   "execution_count": 17,
   "id": "7c4c791f",
   "metadata": {
    "ExecuteTime": {
     "end_time": "2022-03-08T15:36:56.053707Z",
     "start_time": "2022-03-08T15:36:56.032699Z"
    }
   },
   "outputs": [],
   "source": [
    "from tensorflow.keras.layers.experimental.preprocessing import StringLookup\n",
    "from keras.layers import Input, MaxPooling2D, Conv2D, Reshape, Dense, Dropout\n",
    "from keras.layers import Bidirectional, LSTM\n",
    "from keras.models import Model\n",
    "from tensorflow import keras\n",
    "import tensorflow as tf\n",
    "import numpy as np\n",
    "import matplotlib.pyplot as plt\n",
    "import os"
   ]
  },
  {
   "cell_type": "code",
   "execution_count": 3,
   "id": "570b9759",
   "metadata": {
    "ExecuteTime": {
     "end_time": "2022-03-08T15:14:51.558576Z",
     "start_time": "2022-03-08T15:14:51.543573Z"
    }
   },
   "outputs": [],
   "source": [
    "np.random.seed(42)\n",
    "tf.random.set_seed(42)"
   ]
  },
  {
   "cell_type": "markdown",
   "id": "b904d8f0",
   "metadata": {},
   "source": [
    "## Data PreProcessing / Augmentation"
   ]
  },
  {
   "cell_type": "markdown",
   "id": "66493582",
   "metadata": {},
   "source": [
    "### data split"
   ]
  },
  {
   "cell_type": "code",
   "execution_count": 4,
   "id": "009f23d3",
   "metadata": {
    "ExecuteTime": {
     "end_time": "2022-03-08T15:14:51.652597Z",
     "start_time": "2022-03-08T15:14:51.560576Z"
    }
   },
   "outputs": [
    {
     "name": "stdout",
     "output_type": "stream",
     "text": [
      "96456\n"
     ]
    }
   ],
   "source": [
    "word_list = []\n",
    "\n",
    "words = open(f\"data/words.txt\",\"r\").readlines()\n",
    "for line in words:\n",
    "    if line[0] == '#':\n",
    "        continue\n",
    "    if line.split(\" \")[1] != \"err\":\n",
    "        word_list.append(line)\n",
    "    \n",
    "print(len(word_list))\n",
    "np.random.shuffle(word_list)"
   ]
  },
  {
   "cell_type": "code",
   "execution_count": 5,
   "id": "ac92bd92",
   "metadata": {
    "ExecuteTime": {
     "end_time": "2022-03-08T15:14:51.668600Z",
     "start_time": "2022-03-08T15:14:51.653602Z"
    }
   },
   "outputs": [
    {
     "name": "stdout",
     "output_type": "stream",
     "text": [
      "Total training samples: 86810\n",
      "Total validation samples: 48228\n",
      "Total test samples: 48228\n"
     ]
    }
   ],
   "source": [
    "split = int(0.9 * len(word_list))\n",
    "train_data = word_list[:split]\n",
    "test_data = word_list[split:]\n",
    "val_split = int(0.5 * len(word_list))\n",
    "val_data = word_list[:val_split]\n",
    "test_data = word_list[val_split:]\n",
    "\n",
    "# assert len(word_list) == len(train_data) + len(val_data) + len(test_data)\n",
    "\n",
    "print(\"Total training samples:\",len(train_data))\n",
    "print(\"Total validation samples:\", len(val_data))\n",
    "print(\"Total test samples:\", len(test_data))"
   ]
  },
  {
   "cell_type": "markdown",
   "id": "7c5922a0",
   "metadata": {},
   "source": [
    "### data input pipeline"
   ]
  },
  {
   "cell_type": "code",
   "execution_count": 6,
   "id": "a342073f",
   "metadata": {
    "ExecuteTime": {
     "end_time": "2022-03-08T15:14:51.684604Z",
     "start_time": "2022-03-08T15:14:51.669601Z"
    }
   },
   "outputs": [],
   "source": [
    "base_image_path = os.path.join(r'data/words')\n",
    "\n",
    "def get_image_paths_and_labels(samples):\n",
    "    paths = []\n",
    "    corrected_samples = []\n",
    "    for i, file_line in enumerate(samples):\n",
    "        line_split = file_line.strip()\n",
    "        line_split = line_split.split(\" \")\n",
    "        image_name = line_split[0]\n",
    "        part1 = image_name.split(\"-\")[0]\n",
    "        part2 = image_name.split(\"-\")[1]\n",
    "        img_path = os.path.join(base_image_path, part1, part1 + \"-\" + part2, image_name + \".png\")\n",
    "        \n",
    "        if os.path.getsize(img_path):\n",
    "            paths.append(img_path)\n",
    "            corrected_samples.append(file_line.split(\"\\n\")[0])\n",
    "            \n",
    "    return paths, corrected_samples"
   ]
  },
  {
   "cell_type": "code",
   "execution_count": 7,
   "id": "a7d539ae",
   "metadata": {
    "ExecuteTime": {
     "end_time": "2022-03-08T15:15:08.187299Z",
     "start_time": "2022-03-08T15:14:51.685605Z"
    }
   },
   "outputs": [],
   "source": [
    "train_img_paths, train_labels = get_image_paths_and_labels(train_data)\n",
    "val_img_paths, val_labels = get_image_paths_and_labels(val_data)\n",
    "test_img_paths, test_labels = get_image_paths_and_labels(test_data)"
   ]
  },
  {
   "cell_type": "markdown",
   "id": "fe1d11d0",
   "metadata": {},
   "source": [
    "#### data cleaning"
   ]
  },
  {
   "cell_type": "code",
   "execution_count": 8,
   "id": "b29415cf",
   "metadata": {
    "ExecuteTime": {
     "end_time": "2022-03-08T15:15:08.283320Z",
     "start_time": "2022-03-08T15:15:08.188300Z"
    }
   },
   "outputs": [
    {
     "name": "stdout",
     "output_type": "stream",
     "text": [
      "Maximum length:  21\n",
      "Vocab size:  78\n"
     ]
    },
    {
     "data": {
      "text/plain": [
       "['sure',\n",
       " 'he',\n",
       " 'during',\n",
       " 'of',\n",
       " 'booty',\n",
       " 'gastronomy',\n",
       " 'boy',\n",
       " 'The',\n",
       " 'and',\n",
       " 'in']"
      ]
     },
     "execution_count": 8,
     "metadata": {},
     "output_type": "execute_result"
    }
   ],
   "source": [
    "train_labels_cleaned = []\n",
    "characters = set()\n",
    "max_len = 0\n",
    "for label in train_labels:\n",
    "    label = label.split(\" \")[-1].strip()\n",
    "    for char in label:\n",
    "        characters.add(char)\n",
    "        \n",
    "    max_len = max(max_len, len(label))\n",
    "    train_labels_cleaned.append(label)\n",
    "    \n",
    "print(\"Maximum length: \", max_len)\n",
    "print(\"Vocab size: \", len(characters))\n",
    "\n",
    "train_labels_cleaned[:10]"
   ]
  },
  {
   "cell_type": "code",
   "execution_count": 9,
   "id": "95c7b5c6",
   "metadata": {
    "ExecuteTime": {
     "end_time": "2022-03-08T15:15:08.331331Z",
     "start_time": "2022-03-08T15:15:08.284321Z"
    }
   },
   "outputs": [],
   "source": [
    "def clean_labels(labels):\n",
    "    cleaned_labels = []\n",
    "    for label in labels:\n",
    "        label = label.split(\" \")[-1].strip()\n",
    "        cleaned_labels.append(label)\n",
    "    \n",
    "    return cleaned_labels\n",
    "\n",
    "val_labels_cleaned = clean_labels(val_labels)\n",
    "test_labels_cleaned = clean_labels(test_labels)"
   ]
  },
  {
   "cell_type": "markdown",
   "id": "d4c87be9",
   "metadata": {},
   "source": [
    "#### building vocabulary"
   ]
  },
  {
   "cell_type": "code",
   "execution_count": 10,
   "id": "7bf7c2a6",
   "metadata": {
    "ExecuteTime": {
     "end_time": "2022-03-08T15:15:09.761653Z",
     "start_time": "2022-03-08T15:15:08.344334Z"
    }
   },
   "outputs": [],
   "source": [
    "AUTOTUNE = tf.data.AUTOTUNE\n",
    "\n",
    "char_to_num = StringLookup(vocabulary = list(characters), mask_token = None)\n",
    "\n",
    "num_to_char = StringLookup(vocabulary = char_to_num.get_vocabulary(), mask_token = None, invert = True)"
   ]
  },
  {
   "cell_type": "markdown",
   "id": "aed8b18c",
   "metadata": {},
   "source": [
    "#### resizing images"
   ]
  },
  {
   "cell_type": "code",
   "execution_count": 11,
   "id": "9b584752",
   "metadata": {
    "ExecuteTime": {
     "end_time": "2022-03-08T15:15:09.777657Z",
     "start_time": "2022-03-08T15:15:09.762653Z"
    }
   },
   "outputs": [],
   "source": [
    "def distortion_free_resize(image, img_size):\n",
    "    w,h = img_size\n",
    "    image = tf.image.resize(image, size=(h, w), preserve_aspect_ratio = True)\n",
    "    \n",
    "    pad_height = h - tf.shape(image)[0]\n",
    "    pad_width = w - tf.shape(image)[1]\n",
    "    \n",
    "    if pad_height % 2 != 0:\n",
    "        height = pad_height // 2\n",
    "        pad_height_top = height + 1\n",
    "        pad_height_bottom = height\n",
    "    else:\n",
    "        pad_height_top = pad_height_bottom = pad_height // 2\n",
    "        \n",
    "    if pad_width % 2 != 0:\n",
    "        width = pad_width // 2\n",
    "        pad_width_left = width + 1\n",
    "        pad_width_right = width\n",
    "    else:\n",
    "        pad_width_left = pad_width_right = pad_width // 2\n",
    "        \n",
    "    image = tf.pad(image, paddings = [[pad_height_top, pad_height_bottom],[pad_width_left, pad_width_right],[0, 0]])\n",
    "    \n",
    "    image = tf.transpose(image, perm = [1, 0, 2])\n",
    "    image = tf.image.flip_left_right(image)\n",
    "    \n",
    "    return image"
   ]
  },
  {
   "cell_type": "markdown",
   "id": "55c9a860",
   "metadata": {
    "heading_collapsed": true
   },
   "source": [
    "## Initialize"
   ]
  },
  {
   "cell_type": "code",
   "execution_count": 12,
   "id": "eb2f3028",
   "metadata": {
    "ExecuteTime": {
     "end_time": "2022-03-08T15:15:09.793660Z",
     "start_time": "2022-03-08T15:15:09.778658Z"
    },
    "hidden": true
   },
   "outputs": [],
   "source": [
    "batch_size = 64\n",
    "padding_token = 99\n",
    "image_width = 128\n",
    "image_height = 32\n",
    "\n",
    "def preprocess_image(image_path, img_size = (image_width, image_height)):\n",
    "    image = tf.io.read_file(image_path)\n",
    "    image = tf.image.decode_png(image, 1)\n",
    "    image = distortion_free_resize(image, img_size)\n",
    "    image = tf.cast(image, tf.float32) / 255.0\n",
    "    return image\n",
    "\n",
    "def vectorize_label(label):\n",
    "    label = char_to_num(tf.strings.unicode_split(label, input_encoding = \"UTF-8\"))\n",
    "    length = tf.shape(label)[0]\n",
    "    pad_ammount = max_len - length\n",
    "    label = tf.pad(label, paddings = [[0, pad_ammount]], constant_values = padding_token)\n",
    "    return label\n",
    "\n",
    "def process_images_labels(image_path, label):\n",
    "    image = preprocess_image(image_path)\n",
    "    label = vectorize_label(label)\n",
    "    return {\"image\": image, \"label\": label}\n",
    "\n",
    "def prepare_dataset(image_paths, labels):\n",
    "    dataset = tf.data.Dataset.from_tensor_slices((image_paths, labels)).map(\n",
    "        process_images_labels, num_parallel_calls = AUTOTUNE)\n",
    "    return dataset.batch(batch_size).cache().prefetch(AUTOTUNE)"
   ]
  },
  {
   "cell_type": "code",
   "execution_count": 13,
   "id": "8ce3f116",
   "metadata": {
    "ExecuteTime": {
     "end_time": "2022-03-08T15:15:10.701865Z",
     "start_time": "2022-03-08T15:15:09.794661Z"
    },
    "hidden": true
   },
   "outputs": [],
   "source": [
    "train_ds = prepare_dataset(train_img_paths, train_labels_cleaned)\n",
    "validation_ds = prepare_dataset(val_img_paths, val_labels_cleaned)\n",
    "test_ds = prepare_dataset(test_img_paths, test_labels_cleaned)"
   ]
  },
  {
   "cell_type": "markdown",
   "id": "82b32670",
   "metadata": {
    "hidden": true
   },
   "source": [
    "### samples"
   ]
  },
  {
   "cell_type": "code",
   "execution_count": 14,
   "id": "1b9d292d",
   "metadata": {
    "ExecuteTime": {
     "end_time": "2022-03-08T15:15:11.146965Z",
     "start_time": "2022-03-08T15:15:10.702865Z"
    },
    "hidden": true,
    "scrolled": false
   },
   "outputs": [
    {
     "data": {
      "image/png": "[encoded data removed]",
      "text/plain": [
       "<Figure size 1080x576 with 8 Axes>"
      ]
     },
     "metadata": {
      "needs_background": "light"
     },
     "output_type": "display_data"
    }
   ],
   "source": [
    "for data in train_ds.take(1):\n",
    "    images, labels = data[\"image\"], data[\"label\"]\n",
    "\n",
    "    _, ax = plt.subplots(2, 4, figsize=(15, 8))\n",
    "\n",
    "    for i in range(8):\n",
    "        img = images[i]\n",
    "        img = tf.image.flip_left_right(img)\n",
    "        img = tf.transpose(img, perm=[1, 0, 2])\n",
    "        img = (img * 255.0).numpy().clip(0, 255).astype(np.uint8)\n",
    "        img = img[:, :, 0]\n",
    "\n",
    "        label = labels[i]\n",
    "        indices = tf.gather(label, tf.where(tf.math.not_equal(label, padding_token)))\n",
    "\n",
    "        label = tf.strings.reduce_join(num_to_char(indices))\n",
    "        label = label.numpy().decode(\"utf-8\")\n",
    "\n",
    "        ax[i // 4, i % 4].imshow(img, cmap=\"gray\")\n",
    "        ax[i // 4, i % 4].set_title(label)\n",
    "        ax[i // 4, i % 4].axis(\"off\")\n",
    "\n",
    "\n",
    "plt.show()"
   ]
  },
  {
   "cell_type": "markdown",
   "id": "a66a4e93",
   "metadata": {},
   "source": [
    "## Model"
   ]
  },
  {
   "cell_type": "code",
   "execution_count": 25,
   "id": "0a6f8912",
   "metadata": {
    "ExecuteTime": {
     "end_time": "2022-03-08T17:11:11.091722Z",
     "start_time": "2022-03-08T17:11:10.424572Z"
    }
   },
   "outputs": [
    {
     "name": "stdout",
     "output_type": "stream",
     "text": [
      "Model: \"handRec\"\n",
      "__________________________________________________________________________________________________\n",
      " Layer (type)                   Output Shape         Param #     Connected to                     \n",
      "==================================================================================================\n",
      " Image (InputLayer)             [(None, 128, 32, 1)  0           []                               \n",
      "                                ]                                                                 \n",
      "                                                                                                  \n",
      " Conv1 (Conv2D)                 (None, 128, 32, 32)  320         ['Image[0][0]']                  \n",
      "                                                                                                  \n",
      " pool1 (MaxPooling2D)           (None, 64, 16, 32)   0           ['Conv1[0][0]']                  \n",
      "                                                                                                  \n",
      " Conv2 (Conv2D)                 (None, 64, 16, 64)   18496       ['pool1[0][0]']                  \n",
      "                                                                                                  \n",
      " pool2 (MaxPooling2D)           (None, 32, 8, 64)    0           ['Conv2[0][0]']                  \n",
      "                                                                                                  \n",
      " reshape (Reshape)              (None, 32, 512)      0           ['pool2[0][0]']                  \n",
      "                                                                                                  \n",
      " dense1 (Dense)                 (None, 32, 64)       32832       ['reshape[0][0]']                \n",
      "                                                                                                  \n",
      " dropout_4 (Dropout)            (None, 32, 64)       0           ['dense1[0][0]']                 \n",
      "                                                                                                  \n",
      " bidirectional_8 (Bidirectional  (None, 32, 256)     197632      ['dropout_4[0][0]']              \n",
      " )                                                                                                \n",
      "                                                                                                  \n",
      " bidirectional_9 (Bidirectional  (None, 32, 128)     164352      ['bidirectional_8[0][0]']        \n",
      " )                                                                                                \n",
      "                                                                                                  \n",
      " label (InputLayer)             [(None, None)]       0           []                               \n",
      "                                                                                                  \n",
      " dense2 (Dense)                 (None, 32, 81)       10449       ['bidirectional_9[0][0]']        \n",
      "                                                                                                  \n",
      " ctc_loss (CTCLayer)            (None, 32, 81)       0           ['label[0][0]',                  \n",
      "                                                                  'dense2[0][0]']                 \n",
      "                                                                                                  \n",
      "==================================================================================================\n",
      "Total params: 424,081\n",
      "Trainable params: 424,081\n",
      "Non-trainable params: 0\n",
      "__________________________________________________________________________________________________\n"
     ]
    }
   ],
   "source": [
    "class CTCLayer(keras.layers.Layer):\n",
    "    def __init__(self, name=None):\n",
    "        super().__init__(name=name)\n",
    "        self.loss_fn = keras.backend.ctc_batch_cost\n",
    "        \n",
    "    def call(self, y_true, y_pred):\n",
    "        batch_len = tf.cast(tf.shape(y_true)[0], dtype=\"int64\")\n",
    "        input_length = tf.cast(tf.shape(y_pred)[1], dtype=\"int64\")\n",
    "        label_length = tf.cast(tf.shape(y_true)[1], dtype=\"int64\")\n",
    "        \n",
    "        input_length *= tf.ones(shape=(batch_len, 1), dtype=\"int64\")\n",
    "        label_length *= tf.ones(shape=(batch_len, 1), dtype=\"int64\")\n",
    "        loss = self.loss_fn(y_true, y_pred, input_length, label_length)\n",
    "        self.add_loss(loss)\n",
    "        \n",
    "        return y_pred\n",
    "    \n",
    "def build_model():\n",
    "    input_img =Input(shape = (image_width, image_height, 1), name = \"Image\")\n",
    "    labels = Input(name=\"label\", shape = (None,))\n",
    "\n",
    "    x = Conv2D(32,\n",
    "            (3,3),\n",
    "            activation=\"relu\",\n",
    "            kernel_initializer = \"he_normal\",\n",
    "            padding = \"same\",\n",
    "            name = \"Conv1\")(input_img)\n",
    "\n",
    "    x = MaxPooling2D((2,2), name = \"pool1\")(x)\n",
    "\n",
    "    x = Conv2D(64,\n",
    "            (3, 3),\n",
    "            activation=\"relu\",\n",
    "            kernel_initializer=\"he_normal\",\n",
    "            padding=\"same\",\n",
    "            name=\"Conv2\")(x)\n",
    "\n",
    "    x = MaxPooling2D((2, 2), name=\"pool2\")(x)\n",
    "    new_shape = ((image_width//4), (image_height // 4) * 64)\n",
    "    x = Reshape(target_shape = new_shape, name=\"reshape\")(x)\n",
    "    x = Dense(64, activation = \"relu\", name=\"dense1\")(x)\n",
    "    x = Dropout(0.2)(x)\n",
    "\n",
    "    x = Bidirectional(LSTM(128, return_sequences = True, dropout = 0.25))(x)\n",
    "    x = Bidirectional(LSTM(64, return_sequences = True, dropout = 0.25))(x)\n",
    "    x = Dense(len(char_to_num.get_vocabulary()) + 2, activation=\"softmax\", name = \"dense2\")(x)\n",
    "    output = CTCLayer(name = \"ctc_loss\")(labels, x)\n",
    "    model = Model(inputs = [input_img, labels], outputs = output, name=\"handRec\")\n",
    "    model.compile(optimizer=[\"Adam\"])\n",
    "    return model\n",
    "\n",
    "model = build_model()\n",
    "model.summary()"
   ]
  },
  {
   "cell_type": "markdown",
   "id": "0664302b",
   "metadata": {},
   "source": [
    "## Edit Distance"
   ]
  },
  {
   "cell_type": "code",
   "execution_count": 26,
   "id": "8b90f553",
   "metadata": {
    "ExecuteTime": {
     "end_time": "2022-03-08T17:23:52.623201Z",
     "start_time": "2022-03-08T17:23:29.824293Z"
    }
   },
   "outputs": [],
   "source": [
    "validation_images = []\n",
    "validation_labels = []\n",
    "\n",
    "for batch in validation_ds:\n",
    "    validation_images.append(batch[\"image\"])\n",
    "    validation_labels.append(batch[\"label\"])"
   ]
  },
  {
   "cell_type": "code",
   "execution_count": null,
   "id": "757879e7",
   "metadata": {},
   "outputs": [],
   "source": []
  }
 ],
 "metadata": {
  "kernelspec": {
   "display_name": "Python 3 (ipykernel)",
   "language": "python",
   "name": "python3"
  },
  "language_info": {
   "codemirror_mode": {
    "name": "ipython",
    "version": 3
   },
   "file_extension": ".py",
   "mimetype": "text/x-python",
   "name": "python",
   "nbconvert_exporter": "python",
   "pygments_lexer": "ipython3",
   "version": "3.8.8"
  },
  "toc": {
   "base_numbering": 1,
   "nav_menu": {},
   "number_sections": true,
   "sideBar": true,
   "skip_h1_title": false,
   "title_cell": "Table of Contents",
   "title_sidebar": "Contents",
   "toc_cell": false,
   "toc_position": {},
   "toc_section_display": true,
   "toc_window_display": false
  },
  "varInspector": {
   "cols": {
    "lenName": 16,
    "lenType": 16,
    "lenVar": 40
   },
   "kernels_config": {
    "python": {
     "delete_cmd_postfix": "",
     "delete_cmd_prefix": "del ",
     "library": "var_list.py",
     "varRefreshCmd": "print(var_dic_list())"
    },
    "r": {
     "delete_cmd_postfix": ") ",
     "delete_cmd_prefix": "rm(",
     "library": "var_list.r",
     "varRefreshCmd": "cat(var_dic_list()) "
    }
   },
   "types_to_exclude": [
    "module",
    "function",
    "builtin_function_or_method",
    "instance",
    "_Feature"
   ],
   "window_display": false
  }
 },
 "nbformat": 4,
 "nbformat_minor": 5
}
