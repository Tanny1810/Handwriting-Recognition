{
 "cells": [
  {
   "cell_type": "markdown",
   "id": "9e95f285",
   "metadata": {},
   "source": [
    "## Data Collection"
   ]
  },
  {
   "cell_type": "code",
   "execution_count": 24,
   "id": "9faa34f5",
   "metadata": {
    "ExecuteTime": {
     "end_time": "2022-03-01T09:44:42.647809Z",
     "start_time": "2022-03-01T09:44:03.203929Z"
    }
   },
   "outputs": [
    {
     "name": "stdout",
     "output_type": "stream",
     "text": [
      "        1 file(s) moved.\n"
     ]
    }
   ],
   "source": [
    "!tar xf IAM_Words\\words.tgz -C data\\words\n",
    "!move IAM_Words\\words.txt data"
   ]
  },
  {
   "cell_type": "markdown",
   "id": "c263f860",
   "metadata": {
    "ExecuteTime": {
     "end_time": "2022-03-01T09:46:08.110548Z",
     "start_time": "2022-03-01T09:46:08.093544Z"
    }
   },
   "source": [
    "## Libraries"
   ]
  },
  {
   "cell_type": "code",
   "execution_count": 7,
   "id": "7c4c791f",
   "metadata": {
    "ExecuteTime": {
     "end_time": "2022-03-02T05:56:46.734549Z",
     "start_time": "2022-03-02T05:56:46.720545Z"
    }
   },
   "outputs": [],
   "source": [
    "from tensorflow.keras.layers.experimental.preprocessing import StringLookup\n",
    "from tensorflow import keras\n",
    "import tensorflow as tf\n",
    "import numpy as np\n",
    "import matplotlib.pyplot as plt\n",
    "import os"
   ]
  },
  {
   "cell_type": "code",
   "execution_count": 3,
   "id": "570b9759",
   "metadata": {
    "ExecuteTime": {
     "end_time": "2022-03-02T05:56:05.033372Z",
     "start_time": "2022-03-02T05:56:05.018368Z"
    }
   },
   "outputs": [],
   "source": [
    "np.random.seed(42)\n",
    "tf.random.set_seed(42)"
   ]
  },
  {
   "cell_type": "markdown",
   "id": "b904d8f0",
   "metadata": {},
   "source": [
    "## Data PreProcessing / Augmentation"
   ]
  },
  {
   "cell_type": "markdown",
   "id": "66493582",
   "metadata": {},
   "source": [
    "### data split"
   ]
  },
  {
   "cell_type": "code",
   "execution_count": 4,
   "id": "009f23d3",
   "metadata": {
    "ExecuteTime": {
     "end_time": "2022-03-02T05:56:05.144396Z",
     "start_time": "2022-03-02T05:56:05.050376Z"
    }
   },
   "outputs": [
    {
     "name": "stdout",
     "output_type": "stream",
     "text": [
      "96456\n"
     ]
    }
   ],
   "source": [
    "word_list = []\n",
    "\n",
    "words = open(f\"data/words.txt\",\"r\").readlines()\n",
    "for line in words:\n",
    "    if line[0] == '#':\n",
    "        continue\n",
    "    if line.split(\" \")[1] != \"err\":\n",
    "        word_list.append(line)\n",
    "    \n",
    "print(len(word_list))\n",
    "np.random.shuffle(word_list)"
   ]
  },
  {
   "cell_type": "code",
   "execution_count": 5,
   "id": "ac92bd92",
   "metadata": {
    "ExecuteTime": {
     "end_time": "2022-03-02T05:56:06.459714Z",
     "start_time": "2022-03-02T05:56:06.445712Z"
    }
   },
   "outputs": [
    {
     "name": "stdout",
     "output_type": "stream",
     "text": [
      "Total training samples: 86810\n",
      "Total validation samples: 48228\n",
      "Total test samples: 48228\n"
     ]
    }
   ],
   "source": [
    "split = int(0.9 * len(word_list))\n",
    "train_data = word_list[:split]\n",
    "test_data = word_list[split:]\n",
    "val_split = int(0.5 * len(word_list))\n",
    "val_data = word_list[:val_split]\n",
    "test_data = word_list[val_split:]\n",
    "\n",
    "# assert len(word_list) == len(train_data) + len(val_data) + len(test_data)\n",
    "\n",
    "print(\"Total training samples:\",len(train_data))\n",
    "print(\"Total validation samples:\", len(val_data))\n",
    "print(\"Total test samples:\", len(test_data))"
   ]
  },
  {
   "cell_type": "markdown",
   "id": "7c5922a0",
   "metadata": {},
   "source": [
    "### data input pipeline"
   ]
  },
  {
   "cell_type": "code",
   "execution_count": 8,
   "id": "a342073f",
   "metadata": {
    "ExecuteTime": {
     "end_time": "2022-03-02T05:56:56.146113Z",
     "start_time": "2022-03-02T05:56:56.129109Z"
    }
   },
   "outputs": [],
   "source": [
    "base_image_path = os.path.join(r'data/words')\n",
    "\n",
    "def get_image_paths_and_labels(samples):\n",
    "    paths = []\n",
    "    corrected_samples = []\n",
    "    for i, file_line in enumerate(samples):\n",
    "        line_split = file_line.strip()\n",
    "        line_split = line_split.split(\" \")\n",
    "        image_name = line_split[0]\n",
    "        part1 = image_name.split(\"-\")[0]\n",
    "        part2 = image_name.split(\"-\")[1]\n",
    "        img_path = os.path.join(base_image_path, part1, part1 + \"-\" + part2, image_name + \".png\")\n",
    "        \n",
    "        if os.path.getsize(img_path):\n",
    "            paths.append(img_path)\n",
    "            corrected_samples.append(file_line.split(\"\\n\")[0])\n",
    "            \n",
    "    return paths, corrected_samples"
   ]
  },
  {
   "cell_type": "code",
   "execution_count": 10,
   "id": "a7d539ae",
   "metadata": {
    "ExecuteTime": {
     "end_time": "2022-03-02T05:57:38.207888Z",
     "start_time": "2022-03-02T05:57:21.596896Z"
    }
   },
   "outputs": [],
   "source": [
    "train_img_paths, train_labels = get_image_paths_and_labels(train_data)\n",
    "val_img_paths, val_labels = get_image_paths_and_labels(val_data)\n",
    "test_img_paths, test_labels = get_image_paths_and_labels(test_data)"
   ]
  },
  {
   "cell_type": "markdown",
   "id": "ad75e9e2",
   "metadata": {},
   "source": [
    "#### data cleaning"
   ]
  },
  {
   "cell_type": "code",
   "execution_count": 11,
   "id": "b29415cf",
   "metadata": {
    "ExecuteTime": {
     "end_time": "2022-03-02T06:33:48.830384Z",
     "start_time": "2022-03-02T06:33:48.729361Z"
    }
   },
   "outputs": [
    {
     "name": "stdout",
     "output_type": "stream",
     "text": [
      "Maximum length:  21\n",
      "Vocab size:  78\n"
     ]
    },
    {
     "data": {
      "text/plain": [
       "['sure',\n",
       " 'he',\n",
       " 'during',\n",
       " 'of',\n",
       " 'booty',\n",
       " 'gastronomy',\n",
       " 'boy',\n",
       " 'The',\n",
       " 'and',\n",
       " 'in']"
      ]
     },
     "execution_count": 11,
     "metadata": {},
     "output_type": "execute_result"
    }
   ],
   "source": [
    "train_labels_cleaned = []\n",
    "characters = set()\n",
    "max_len = 0\n",
    "for label in train_labels:\n",
    "    label = label.split(\" \")[-1].strip()\n",
    "    for char in label:\n",
    "        characters.add(char)\n",
    "        \n",
    "    max_len = max(max_len, len(label))\n",
    "    train_labels_cleaned.append(label)\n",
    "    \n",
    "print(\"Maximum length: \", max_len)\n",
    "print(\"Vocab size: \", len(characters))\n",
    "\n",
    "train_labels_cleaned[:10]"
   ]
  },
  {
   "cell_type": "code",
   "execution_count": 12,
   "id": "28af2d59",
   "metadata": {
    "ExecuteTime": {
     "end_time": "2022-03-02T10:13:52.296833Z",
     "start_time": "2022-03-02T10:13:52.215815Z"
    }
   },
   "outputs": [],
   "source": [
    "def clean_labels(labels):\n",
    "    cleaned_labels = []\n",
    "    for label in labels:\n",
    "        label = label.split(\" \")[-1].strip()\n",
    "        cleaned_labels.append(label)\n",
    "    \n",
    "    return cleaned_labels\n",
    "\n",
    "val_labels_cleaned = clean_labels(val_labels)\n",
    "test_labels_cleaned = clean_labels(test_labels)"
   ]
  },
  {
   "cell_type": "markdown",
   "id": "7bda1969",
   "metadata": {},
   "source": [
    "#### building vocabulary"
   ]
  },
  {
   "cell_type": "code",
   "execution_count": 13,
   "id": "549cc080",
   "metadata": {
    "ExecuteTime": {
     "end_time": "2022-03-02T11:06:55.438358Z",
     "start_time": "2022-03-02T11:06:52.608303Z"
    }
   },
   "outputs": [],
   "source": [
    "AUTOTUNE = tf.data.AUTOTUNE\n",
    "\n",
    "char_to_num = StringLookup(vocabulary = list(characters), mask_token = None)\n",
    "\n",
    "num_to_char = StringLookup(vocabulary = char_to_num.get_vocabulary(), mask_token = None, invert = True)"
   ]
  },
  {
   "cell_type": "markdown",
   "id": "64d08902",
   "metadata": {},
   "source": [
    "#### resizing images"
   ]
  },
  {
   "cell_type": "code",
   "execution_count": null,
   "id": "adb822dc",
   "metadata": {},
   "outputs": [],
   "source": [
    "def distortion_free_resize(image, img_size):\n",
    "    w,h = img_size\n",
    "    image = tf.image.resize(image, size=(h, w), preserve_aspect_ratio = True)\n",
    "    \n",
    "    pad_height = h - tf.shape(image)[0]\n",
    "    pad_width = w - tf.shape(image)[1]\n",
    "    \n",
    "    if pad_height % 2 != 0:\n",
    "        height = pad_height // 2\n",
    "        pad_height_top = height + 1\n",
    "        pad_height_bottom = height"
   ]
  }
 ],
 "metadata": {
  "kernelspec": {
   "display_name": "Python 3 (ipykernel)",
   "language": "python",
   "name": "python3"
  },
  "language_info": {
   "codemirror_mode": {
    "name": "ipython",
    "version": 3
   },
   "file_extension": ".py",
   "mimetype": "text/x-python",
   "name": "python",
   "nbconvert_exporter": "python",
   "pygments_lexer": "ipython3",
   "version": "3.8.8"
  },
  "toc": {
   "base_numbering": 1,
   "nav_menu": {},
   "number_sections": true,
   "sideBar": true,
   "skip_h1_title": false,
   "title_cell": "Table of Contents",
   "title_sidebar": "Contents",
   "toc_cell": false,
   "toc_position": {},
   "toc_section_display": true,
   "toc_window_display": false
  },
  "varInspector": {
   "cols": {
    "lenName": 16,
    "lenType": 16,
    "lenVar": 40
   },
   "kernels_config": {
    "python": {
     "delete_cmd_postfix": "",
     "delete_cmd_prefix": "del ",
     "library": "var_list.py",
     "varRefreshCmd": "print(var_dic_list())"
    },
    "r": {
     "delete_cmd_postfix": ") ",
     "delete_cmd_prefix": "rm(",
     "library": "var_list.r",
     "varRefreshCmd": "cat(var_dic_list()) "
    }
   },
   "types_to_exclude": [
    "module",
    "function",
    "builtin_function_or_method",
    "instance",
    "_Feature"
   ],
   "window_display": false
  }
 },
 "nbformat": 4,
 "nbformat_minor": 5
}
